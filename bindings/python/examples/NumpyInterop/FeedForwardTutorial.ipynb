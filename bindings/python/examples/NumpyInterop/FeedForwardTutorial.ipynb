{
 "cells": [
  {
   "cell_type": "markdown",
   "metadata": {
    "nbpresent": {
     "id": "29b9bd1d-766f-4422-ad96-de0accc1ce58"
    }
   },
   "source": [
    "# Feed-forward Network - Basic CNTK Example\n",
    "\n",
    "A feedforward neural network is an artificial neural network where connections between the units **do not** form a cycle. This is different from recurrent neural networks.\n",
    "\n",
    "The feedforward neural network was the first and simplest type of artificial neural network devised. In this network, the information moves in only one direction, forward, from the input nodes, through the hidden nodes (if any) and to the output nodes. There are no cycles or loops in the network\n",
    "\n",
    "<img src=\"https://upload.wikimedia.org/wikipedia/en/5/54/Feed_forward_neural_net.gif\",width=150, height=150>\n",
    "\n"
   ]
  },
  {
   "cell_type": "code",
   "execution_count": 1,
   "metadata": {
    "collapsed": false,
    "nbpresent": {
     "id": "138d1a78-02e2-4bd6-a20e-07b83f303563"
    }
   },
   "outputs": [],
   "source": [
    "# Import the relevant components\n",
    "import numpy as np\n",
    "import sys\n",
    "import os\n",
    "import cntk\n",
    "from cntk import learning_rates_per_sample, DeviceDescriptor, Trainer, sgd_learner\n",
    "from cntk import cntk_device, StreamConfiguration, text_format_minibatch_source\n",
    "#from cntk.ops import input_variable, cross_entropy_with_softmax, combine, classification_error, parameter, sigmoid\n",
    "from cntk.ops import *"
   ]
  },
  {
   "cell_type": "code",
   "execution_count": 2,
   "metadata": {
    "collapsed": false
   },
   "outputs": [],
   "source": [
    "# Specify the target device to be used for computing (this example is showing for CPU usage)\n",
    "target_device = DeviceDescriptor.cpu_device()    \n",
    "DeviceDescriptor.set_default_device(target_device)"
   ]
  },
  {
   "cell_type": "markdown",
   "metadata": {},
   "source": [
    "## Data Generation\n",
    "In this example, we are going to generate some random data. In this example we will use a uses a 2 dimensional data with 2 classes. The number of green nodes (refer to picture above) in each layer is set to 50 in the example and the number of hidden layers (refer to the number of layers of green nodes) is 2. Fill in the following values:\n",
    "- input_dim\n",
    "- num_output_classes\n",
    "- num_hidden_layers\n",
    "- hidden_layers_dim"
   ]
  },
  {
   "cell_type": "code",
   "execution_count": 3,
   "metadata": {
    "collapsed": true
   },
   "outputs": [],
   "source": [
    "#Ensure we always get the same amount of randomness\n",
    "np.random.seed(0)\n",
    "\n",
    "# Define the network\n",
    "input_dim = 2\n",
    "num_output_classes = 2\n",
    "num_hidden_layers = 2\n",
    "hidden_layers_dim = 50\n"
   ]
  },
  {
   "cell_type": "markdown",
   "metadata": {},
   "source": [
    "#### Input and Labels\n",
    "\n",
    "In this tutorial we are generating synthetic data using `numpy` library. In real world problems, one would put in a reader, that would read a feature matrix (`features`) where each row would represent an obeserved feature set.  Note, the each observation can reside in a higher dimension space and will be represented as a tensor.\n",
    "\n",
    "For supervised classification, corresponding to each observation (set of features - entries in our row matrix), we associate a label. In our example we have binary classification problem. Hence the labels are 0 or 1. Note the code above supports multi-class classification and thus the `labels` variable has the dimension of *number of samples* $\\times$ *number of classes*. In this tutorial, each row shall have only a single entry of 1 indicating where the column index corresponds to the class label."
   ]
  },
  {
   "cell_type": "code",
   "execution_count": 4,
   "metadata": {
    "collapsed": true
   },
   "outputs": [],
   "source": [
    "#Helper function to generate a random data sample\n",
    "def generate_random_data(sample_size, feature_dim, num_classes):\n",
    "    # Create synthetic data using NumPy. \n",
    "    Y = np.random.randint(size=(sample_size, 1), low=0, high=num_classes)\n",
    "\n",
    "    # Make sure that the data is separable\n",
    "    X = (np.random.randn(sample_size, feature_dim)+3) * (Y+1)\n",
    "    X = X.astype(np.float32)    \n",
    "    # converting class 0 into the vector \"1 0 0\", \n",
    "    # class 1 into vector \"0 1 0\", ...\n",
    "    class_ind = [Y==class_number for class_number in range(num_classes)]\n",
    "    Y = np.asarray(np.hstack(class_ind), dtype=np.float32)\n",
    "    return X, Y  "
   ]
  },
  {
   "cell_type": "code",
   "execution_count": 5,
   "metadata": {
    "collapsed": false
   },
   "outputs": [],
   "source": [
    "# Create the input variables denoting the features and the label data\n",
    "mysamplesize = 25\n",
    "features, labels = generate_random_data(mysamplesize, input_dim, num_output_classes)\n",
    "input = input_variable((input_dim), np.float32)\n",
    "label = input_variable((num_output_classes), np.float32)"
   ]
  },
  {
   "cell_type": "markdown",
   "metadata": {},
   "source": [
    "Let's plot the data to see how the input data looks. \n",
    "**Caution**: If the import of `matplotlib.pyplot` fails, please run `conda install matplotlib` which will fix the `pyplot` version dependencies\n"
   ]
  },
  {
   "cell_type": "code",
   "execution_count": 6,
   "metadata": {
    "collapsed": false
   },
   "outputs": [
    {
     "data": {
      "image/png": "[encoded data removed]",
      "text/plain": [
       "<matplotlib.figure.Figure at 0x7aded68>"
      ]
     },
     "metadata": {},
     "output_type": "display_data"
    }
   ],
   "source": [
    "# Plot the data \n",
    "import matplotlib.pyplot as plt\n",
    "\n",
    "#given this is a 2 class \n",
    "colors = ['b' if l == 0 else 'r' for l in labels[:,0]]\n",
    "\n",
    "plt.scatter(features[:,0], features[:,1], c=colors)\n",
    "plt.show()"
   ]
  },
  {
   "cell_type": "markdown",
   "metadata": {},
   "source": [
    "#### Model parameters\n",
    "\n",
    "A feed forward network requires:\n",
    "- an **input** variable: This is the equal to the dimension of the data, e.g., if a 2D array with 10 rows and 5 columns are presented, then the input feature dimension will be 50, \n",
    "\n",
    "What is the input dimension of your chosen model?\n",
    "\n",
    "Lets define the feedforward network one step at a time. The first layer takes an input feature vector ($\\bf{x}$) with dimensions (`input_dim`) say $m$) and emits the output a.k.a *evidence* (first hidden layer $\\bf{z_1}$ with dimension (`hidden_layer_dim`) say $n$). The each feature in the input layer is connected with a node in the output later by the weight which is represented by a matrix $\\bf{W}$ with dimensions ($m \\times n$). The first step is to compute the evidence for the entire feature set. Note: we use **bold** notations to denote matrix / vectors: \n",
    "\n",
    "$$\\bf{z_1} = \\bf{W} \\times \\bf{x} + \\bf{b}$$ \n",
    "\n",
    "where $\\bf{b}$ is a bias vector of dimension $n$. \n",
    "\n",
    "### Network setup\n",
    "\n",
    "The `linear_layer` function is pretty straight forward and should be easy to implement. We perform two operations:\n",
    "0. multiply the weights ($\\bf{W}$)  with the features ($\\bf{x}$),\n",
    "1. add the bias term $\\bf{b}$."
   ]
  },
  {
   "cell_type": "code",
   "execution_count": 7,
   "metadata": {
    "collapsed": true
   },
   "outputs": [],
   "source": [
    "def linear_layer(input, output_dim):\n",
    "    input_dim = input.shape()[0]\n",
    "    weight_param = parameter(shape=(input_dim, output_dim))\n",
    "    bias_param = parameter(shape=(output_dim))\n",
    "\n",
    "    t = times(input, weight_param)\n",
    "    return bias_param + t"
   ]
  },
  {
   "cell_type": "markdown",
   "metadata": {},
   "source": [
    "The next step is to convert the *evidence* (the output of the linear layer) through a non linear function a.k.a. *activation functions* of your choice that would squash the evidence to activations using a choice of functions ([found here][]). **Sigmoid** or **Tanh** are historically popular. We will use **sigmoid** function in this tutorial. The output of the sigmoid function often is the input to the next layer or the output of the final layer. \n",
    "[found here]: https://github.com/Microsoft/CNTK/wiki/Activation-Functions"
   ]
  },
  {
   "cell_type": "code",
   "execution_count": 8,
   "metadata": {
    "collapsed": true
   },
   "outputs": [],
   "source": [
    "def fully_connected_layer(input, output_dim, nonlinearity):\n",
    "    p = linear_layer(input, output_dim)\n",
    "    return nonlinearity(p);"
   ]
  },
  {
   "cell_type": "markdown",
   "metadata": {},
   "source": [
    "Now that we have created 1 hidden layer, we need to iterate through the layers to create the fully connected classifier. In this function you can see the output of the first layer ($\\bf{h_1}$) `h` becomes the input to the next layer.\n",
    "\n",
    "**Note**: One of the major convinience of CNTK is the ability of the toolkit to automatically caputre recurrent blocks of input. \n",
    "\n",
    "This makes the code highly compact and less error prone when stacking multiple larger networks. In this example we have only 2 layers, hence once could concievably write the code as:\n",
    "\n",
    ">`h1 = fully_connected_layer(input, hidden_layer_dim, nonlinearity)`\n",
    "\n",
    ">`h2 = fully_connected_layer(h1, hidden_layer_dim, nonlinearity)`\n",
    "\n",
    "However, this code becomes very quickly very difficult to read and update when the number of layers or blocks (in convolutional or recurrent networks) that we will see later. CNTK provides this programming construct that greatly eases the burden on the programmer. Hence the following construct is very attractive and will be used in many of the subsequent tutorials:\n",
    "\n",
    ">`h = fully_connected_layer(input, hidden_layer_dim, nonlinearity)`\n",
    "\n",
    ">`for i in range(1, num_hidden_layers):`\n",
    "       \n",
    ">>`    h = fully_connected_layer(h, hidden_layer_dim, nonlinearity)`"
   ]
  },
  {
   "cell_type": "code",
   "execution_count": 9,
   "metadata": {
    "collapsed": true
   },
   "outputs": [],
   "source": [
    "# Defines a multilayer feedforward classification model\n",
    "def fully_connected_classifier_net(input, num_output_classes, hidden_layer_dim, num_hidden_layers, nonlinearity):\n",
    "    h = fully_connected_layer(input, hidden_layer_dim, nonlinearity)\n",
    "    for i in range(1, num_hidden_layers):\n",
    "        h = fully_connected_layer(h, hidden_layer_dim, nonlinearity)\n",
    "\n",
    "    return linear_layer(h, num_output_classes)"
   ]
  },
  {
   "cell_type": "code",
   "execution_count": 10,
   "metadata": {
    "collapsed": false
   },
   "outputs": [],
   "source": [
    "# Create the fully connected classfier\n",
    "netout = fully_connected_classifier_net(input, num_output_classes, hidden_layers_dim, num_hidden_layers, sigmoid)"
   ]
  },
  {
   "cell_type": "markdown",
   "metadata": {},
   "source": [
    "### Learning model parameters\n",
    "\n",
    "Now that the network is setup, we would like to learn the parameters $\\bf W$ and $\\bf b$ for each of the layers in our network. To do so we convert, the computed evidence ($\\bf z_final_layer$) into a set of predicted probabilities $\\bf y$ using a `softmax` function.\n",
    "\n",
    "$$ p = softmax(~evidence~) = softmax(~\\bf{z_{ final layer}})$$\n",
    "\n",
    "One can see the `softmax` function as an activation function that maps the accummulated evidences to a probability distribution over the number of classes, in our example 2 (Details of the [softmax function][])\n",
    "\n",
    "[softmax function]: http://lsstce08:8000/cntk.ops.html#cntk.ops.softmax"
   ]
  },
  {
   "cell_type": "markdown",
   "metadata": {},
   "source": [
    "## Training\n",
    "The output of the softmax is a probability of each observation (rows of $\\bf x$) belonging to the respective classes. For training the classifer we need to determine what behavior the model needs to mimic. In other words, we want the generated probabilities to be as close as possible to the observed labels. This function is called the *cost* or *loss* fucntion and shows what is the difference between the learnt model vs. that generated by the training set.\n",
    "\n",
    "[`Cross-entropy`][] is a popular function to measure the loss and has been used actively in information theory. It is defined as:\n",
    "\n",
    "$$ H(y) = - \\sum_j y_j \\log (p_j) $$  \n",
    "\n",
    "where $y$ is our predicted probability from `softmax` function and $y$ represents the ground truth or the label. Understanding the [details][] of this cross-entropy function is highly recommended.\n",
    "\n",
    "[`cross-entropy`]: http://lsstce08:8000/cntk.ops.html#cntk.ops.cross_entropy_with_softmax\n",
    "[details]: http://colah.github.io/posts/2015-09-Visual-Information/"
   ]
  },
  {
   "cell_type": "code",
   "execution_count": 11,
   "metadata": {
    "collapsed": false
   },
   "outputs": [],
   "source": [
    "loss = cross_entropy_with_softmax(netout, label)"
   ]
  },
  {
   "cell_type": "markdown",
   "metadata": {},
   "source": [
    "#### Evaluation\n",
    "\n",
    "In order to evaluate the classification, one can compare the output of the network which for each observation emits a vector of evidences (can be converted into probabilities using `softmax` functions) with dimension equal to number of classes."
   ]
  },
  {
   "cell_type": "code",
   "execution_count": 12,
   "metadata": {
    "collapsed": false
   },
   "outputs": [],
   "source": [
    "label_error = classification_error(netout, label)"
   ]
  },
  {
   "cell_type": "markdown",
   "metadata": {},
   "source": [
    "### Configure the training\n",
    "\n",
    "Talk about learning rate here\n",
    "\n",
    "Talk about he learning parameters\n",
    "\n",
    "Talk about the optimizer"
   ]
  },
  {
   "cell_type": "code",
   "execution_count": 13,
   "metadata": {
    "collapsed": false
   },
   "outputs": [],
   "source": [
    "#Initialize the parameters for the trainer\n",
    "minibatch_size = 25\n",
    "num_samples_per_sweep = 10000\n",
    "num_sweeps_to_train_with = 2\n",
    "num_minibatches_to_train = (num_samples_per_sweep * num_sweeps_to_train_with) / minibatch_size\n",
    "\n",
    "# Instantiate the trainer object to drive the model training\n",
    "learning_rate = learning_rates_per_sample(0.02)\n",
    "trainer = Trainer(netout, loss, label_error, [sgd_learner(netout.owner.parameters(), learning_rate)])"
   ]
  },
  {
   "cell_type": "code",
   "execution_count": 33,
   "metadata": {
    "collapsed": true
   },
   "outputs": [],
   "source": [
    "from cntk.utils import get_train_eval_criterion, get_train_loss\n",
    "# Defines a utility that prints the training progress\n",
    "def print_training_progress(trainer, mb, frequency):\n",
    "    \n",
    "    training_loss = \"NA\"\n",
    "    eval_error = \"NA\"\n",
    "\n",
    "    if mb%frequency == 0:\n",
    "        training_loss = get_train_loss(trainer)\n",
    "        eval_error = get_train_eval_criterion(trainer)\n",
    "        print (\"Minibatch: {}, Train Loss: {}, Train Error: {}\".format(mb, training_loss, eval_error))\n",
    "        \n",
    "    return mb, training_loss, eval_error"
   ]
  },
  {
   "cell_type": "code",
   "execution_count": 41,
   "metadata": {
    "collapsed": false
   },
   "outputs": [
    {
     "name": "stdout",
     "output_type": "stream",
     "text": [
      "Minibatch: 0, Train Loss: 0.1596841049194336, Train Error: 0.04\n",
      "Minibatch: 50, Train Loss: 0.1773414993286133, Train Error: 0.04\n",
      "Minibatch: 100, Train Loss: 0.04359692096710205, Train Error: 0.0\n",
      "Minibatch: 150, Train Loss: 0.08222903251647949, Train Error: 0.0\n",
      "Minibatch: 200, Train Loss: 0.29387798309326174, Train Error: 0.12\n",
      "Minibatch: 250, Train Loss: 0.15555402755737305, Train Error: 0.08\n",
      "Minibatch: 300, Train Loss: 0.06223107814788818, Train Error: 0.0\n",
      "Minibatch: 350, Train Loss: 0.1815052795410156, Train Error: 0.08\n",
      "Minibatch: 400, Train Loss: 0.08325569152832031, Train Error: 0.0\n",
      "Minibatch: 450, Train Loss: 0.23392257690429688, Train Error: 0.04\n",
      "Minibatch: 500, Train Loss: 0.06672056198120117, Train Error: 0.0\n",
      "Minibatch: 550, Train Loss: 0.17000217437744142, Train Error: 0.08\n",
      "Minibatch: 600, Train Loss: 0.1040743637084961, Train Error: 0.04\n",
      "Minibatch: 650, Train Loss: 0.11035919189453125, Train Error: 0.04\n",
      "Minibatch: 700, Train Loss: 0.5002112579345703, Train Error: 0.2\n",
      "Minibatch: 750, Train Loss: 0.36011924743652346, Train Error: 0.12\n"
     ]
    },
    {
     "data": {
      "image/png": "[encoded data removed]",
      "text/plain": [
       "<matplotlib.figure.Figure at 0x330fd0>"
      ]
     },
     "metadata": {},
     "output_type": "display_data"
    },
    {
     "data": {
      "image/png": "[encoded data removed]",
      "text/plain": [
       "<matplotlib.figure.Figure at 0x8f49f60>"
      ]
     },
     "metadata": {},
     "output_type": "display_data"
    }
   ],
   "source": [
    "#Run the trainer on and perform model training\n",
    "training_progress_output_freq = 50\n",
    "\n",
    "plotdata = {\"batchsize\":[], \"loss\":[], \"error\":[]}\n",
    "\n",
    "for i in range(0, int(num_minibatches_to_train)):\n",
    "    features, labels = generate_random_data(minibatch_size, input_dim, num_output_classes)\n",
    "    # Specify the mapping of input variables in the model to actual minibatch data to be trained with\n",
    "    trainer.train_minibatch({input : features, label : labels})\n",
    "    batchsize, loss, error = print_training_progress(trainer, i, training_progress_output_freq)\n",
    "    \n",
    "    if not loss == \"NA\": \n",
    "        plotdata[\"batchsize\"].append(batchsize)\n",
    "        plotdata[\"loss\"].append(loss)\n",
    "        plotdata[\"error\"].append(error)\n",
    "\n",
    "    \n",
    "#Plot the training loss and the training error\n",
    "import matplotlib.pyplot as plt\n",
    "\n",
    "plt.figure(1)\n",
    "plt.subplot(211)\n",
    "plt.plot(plotdata[\"batchsize\"], plotdata[\"loss\"], 'b--')\n",
    "plt.xlabel('Minibatch number')\n",
    "plt.ylabel('Loss')\n",
    "plt.title('Minibatch run vs. Training loss ')\n",
    "\n",
    "plt.show()\n",
    "\n",
    "plt.subplot(212)\n",
    "plt.plot(plotdata[\"batchsize\"], plotdata[\"error\"], 'r--')\n",
    "plt.xlabel('Minibatch number')\n",
    "plt.ylabel('Label Prediction Error')\n",
    "plt.title('Minibatch run vs. Label Prediction Error ')\n",
    "plt.show()"
   ]
  },
  {
   "cell_type": "markdown",
   "metadata": {},
   "source": [
    "## Evalutaion on test set\n",
    "\n",
    "Now that we have trained the network. Lets try how the network data on previously unseen data."
   ]
  },
  {
   "cell_type": "code",
   "execution_count": 19,
   "metadata": {
    "collapsed": false
   },
   "outputs": [],
   "source": [
    "#Generate new data\n",
    "features, labels = generate_random_data(minibatch_size, input_dim, num_output_classes)\n",
    "\n",
    "trainer.test_minibatch({input : features, label : labels})  "
   ]
  },
  {
   "cell_type": "code",
   "execution_count": 22,
   "metadata": {
    "collapsed": false
   },
   "outputs": [],
   "source": [
    "val"
   ]
  },
  {
   "cell_type": "code",
   "execution_count": null,
   "metadata": {
    "collapsed": true
   },
   "outputs": [],
   "source": []
  }
 ],
 "metadata": {
  "anaconda-cloud": {},
  "kernelspec": {
   "display_name": "Python [default]",
   "language": "python",
   "name": "python3"
  },
  "language_info": {
   "codemirror_mode": {
    "name": "ipython",
    "version": 3
   },
   "file_extension": ".py",
   "mimetype": "text/x-python",
   "name": "python",
   "nbconvert_exporter": "python",
   "pygments_lexer": "ipython3",
   "version": "3.4.5"
  }
 },
 "nbformat": 4,
 "nbformat_minor": 1
}
