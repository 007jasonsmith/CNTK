{
 "cells": [
  {
   "cell_type": "markdown",
   "metadata": {
    "collapsed": true
   },
   "source": [
    "# Logistic Regression - Basic CNTK Example\n",
    "\n",
    "A feedforward neural network is an artificial neural network where connections between the units **do not** form a cycle. This is different from recurrent neural networks.\n",
    "\n",
    "The feedforward neural network was the first and simplest type of artificial neural network devised. In this network, the information moves in only one direction, forward, from the input nodes, through the hidden nodes (if any) and to the output nodes. There are no cycles or loops in the network\n",
    "\n",
    "<img src=\"https://upload.wikimedia.org/wikipedia/en/5/54/Feed_forward_neural_net.gif\",width=150, height=150>\n"
   ]
  },
  {
   "cell_type": "code",
   "execution_count": 5,
   "metadata": {
    "collapsed": true
   },
   "outputs": [],
   "source": [
    "# Import the relevant components\n",
    "import numpy as np\n",
    "import sys\n",
    "import os\n",
    "from cntk import DeviceDescriptor, Trainer, sgd_learner, cntk_device, StreamConfiguration, text_format_minibatch_source\n",
    "from cntk.ops import input_variable, cross_entropy_with_softmax, combine, classification_error, sigmoid\n",
    "from cntk.ops import *"
   ]
  },
  {
   "cell_type": "code",
   "execution_count": 6,
   "metadata": {
    "collapsed": true
   },
   "outputs": [],
   "source": [
    "#Ensure we always get the same amount of randomness\n",
    "np.random.seed(0)\n",
    "\n",
    "# Define the network\n",
    "input_dim = 2\n",
    "num_output_classes = 2"
   ]
  },
  {
   "cell_type": "code",
   "execution_count": 7,
   "metadata": {
    "collapsed": true
   },
   "outputs": [],
   "source": [
    "#Helper function to generate a random data sample\n",
    "def generate_random_data(sample_size, feature_dim, num_classes):\n",
    "    # Create synthetic data using NumPy. \n",
    "    Y = np.random.randint(size=(sample_size, 1), low=0, high=num_classes)\n",
    "\n",
    "    # Make sure that the data is separable\n",
    "    X = (np.random.randn(sample_size, feature_dim)+3) * (Y+1)\n",
    "    X = X.astype(np.float32)    \n",
    "    # converting class 0 into the vector \"1 0 0\", \n",
    "    # class 1 into vector \"0 1 0\", ...\n",
    "    class_ind = [Y==class_number for class_number in range(num_classes)]\n",
    "    Y = np.asarray(np.hstack(class_ind), dtype=np.float32)\n",
    "    return X, Y   "
   ]
  },
  {
   "cell_type": "code",
   "execution_count": 8,
   "metadata": {
    "collapsed": false
   },
   "outputs": [],
   "source": [
    "# Create the input variables denoting the features and the label data. Note: the input_variable does not need \n",
    "# additional info on number of observations (Samples) since CNTK first create only the network tooplogy first \n",
    "mysamplesize = 25\n",
    "features, labels = generate_random_data(mysamplesize, input_dim, num_output_classes)\n",
    "input = input_variable((input_dim), np.float32)\n",
    "label = input_variable((num_output_classes), np.float32)"
   ]
  },
  {
   "cell_type": "code",
   "execution_count": 9,
   "metadata": {
    "collapsed": false
   },
   "outputs": [
    {
     "data": {
      "image/png": "[encoded data removed]",
      "text/plain": [
       "<matplotlib.figure.Figure at 0x59934a8>"
      ]
     },
     "metadata": {},
     "output_type": "display_data"
    }
   ],
   "source": [
    "# Plot the data \n",
    "import matplotlib.pyplot as plt\n",
    "\n",
    "#given this is a 2 class \n",
    "colors = ['b' if l == 0 else 'r' for l in labels[:,0]]\n",
    "\n",
    "plt.scatter(features[:,0], features[:,1], c=colors)\n",
    "plt.show()"
   ]
  },
  {
   "cell_type": "code",
   "execution_count": 12,
   "metadata": {
    "collapsed": false
   },
   "outputs": [],
   "source": [
    "# Set a fixed for reproducible runs\n",
    "np.random.seed(1)\n",
    "\n",
    "#Generate train and test data\n",
    "trainsamplesize = 25\n",
    "train_features, train_labels = generate_random_data(trainsamplesize, input_dim, num_output_classes)\n",
    "\n",
    "testsamplesize = 10\n",
    "test_features, test_labels = generate_random_data(testsamplesize, input_dim, num_output_classes)"
   ]
  },
  {
   "cell_type": "markdown",
   "metadata": {},
   "source": [
    "#### Model parameters\n",
    "\n",
    "A logistic regression (a.k.a LR) network is the simplest building block but has been powering hundereds of ML \n",
    "applications in the past decade. LR is a simple linear model that takes an input feature vector ($\\bf{x}$) with \n",
    "dimensions (`input_dim`) say $m$) and emits the output a.k.a *evidence* ($\\bf{z}$). \n",
    "Each feature in the input layer is connected with a output node by a corresponding weight w. \n",
    "\n",
    "The first step is to compute the evidence for an observation. Note: we use **bold** notations to denote vectors \n",
    "notation.\n",
    "\n",
    "$$\\bf{z} = \\bf{w} \\times \\bf{x} + b$$ \n",
    "\n",
    "where $\\bf{w}$ is the weight vector of lenght $n$ and $b}$ is a bias.  \n",
    "\n",
    "### Network setup\n",
    "\n",
    "The `linear_layer` function is pretty straight forward and should be easy to implement. We perform two operations:\n",
    "0. multiply the weights ($\\bf{w}$)  with the features ($\\bf{x}$),\n",
    "1. add the bias term $b$."
   ]
  },
  {
   "cell_type": "code",
   "execution_count": 14,
   "metadata": {
    "collapsed": true
   },
   "outputs": [],
   "source": [
    "#QUESTION: input_var.output() construct is wierd; can we hide it\n",
    "\n",
    "def linear_layer(input_var, output_dim):\n",
    "    try:\n",
    "        shape = input_var.shape()\n",
    "    except AttributeError:\n",
    "        input_var = input_var.output()\n",
    "        shape = input_var.shape()\n",
    "\n",
    "    input_dim = shape[0]\n",
    "    times_param = parameter(shape=(input_dim, output_dim))\n",
    "    bias_param = parameter(shape=(output_dim))\n",
    "\n",
    "    t = times(input_var, times_param)\n",
    "    return bias_param + t"
   ]
  },
  {
   "cell_type": "code",
   "execution_count": null,
   "metadata": {
    "collapsed": true
   },
   "outputs": [],
   "source": []
  }
 ],
 "metadata": {
  "kernelspec": {
   "display_name": "Python [default]",
   "language": "python",
   "name": "python3"
  },
  "language_info": {
   "codemirror_mode": {
    "name": "ipython",
    "version": 3
   },
   "file_extension": ".py",
   "mimetype": "text/x-python",
   "name": "python",
   "nbconvert_exporter": "python",
   "pygments_lexer": "ipython3",
   "version": "3.4.5"
  }
 },
 "nbformat": 4,
 "nbformat_minor": 1
}
