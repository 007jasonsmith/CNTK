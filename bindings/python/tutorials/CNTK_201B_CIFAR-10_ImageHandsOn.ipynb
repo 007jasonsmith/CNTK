{
 "cells": [
  {
   "cell_type": "markdown",
   "metadata": {},
   "source": [
    "# CNTK 201b: Hands On Labs Image Recognition"
   ]
  },
  {
   "cell_type": "markdown",
   "metadata": {},
   "source": [
    "This hands-on lab shows how to implement image recognition task using convolution network with CNTK v2 Python API. You will start with a basic feedforward CNN architecture in order to classify Cifar dataset, then you will keep adding advance feature to your network. Finally, you will implement a residual nets similar to the one that won ImageNet competition but smaller in size.\n",
    "\n",
    "## Introduction\n",
    "\n",
    "In this hands-on, you will practice the following:\n",
    "\n",
    "* Understanding subset of CNTK python primitive needed for image classification task.\n",
    "* Write a custom convolution network to classify Cifar dataset.\n",
    "* Modifying the network structure by adding:\n",
    " * Drop out layer.\n",
    " * Batchnormalization layer.\n",
    "* Switching the above networks to CNTK layer API.\n",
    "* Introduction to Residual Nets (RESNET).\n",
    "* Implement and train RESNET network.\n",
    "\n",
    "\n",
    "## Prerequisites\n",
    "\n",
    "CNTK 201a hands-on lab, in which you will download and prepare Cifar dataset is a prerequisites for this lab. This tutorial depends on CNTK v2, so before starting this lab you will need to install CNTK v2. Furthermore, all the tutorials in this lab are done in python, therefore, you will need a basic knowledge of python.\n",
    "\n",
    "CNTK 102 lab is recommended but not a prerequisites.\n",
    "\n",
    "## Convolution Neural Network (CNN)\n",
    "\n",
    "Convolution Neural Network (CNN) is a feedforward network comprise of a bunch of layers in such a way that the output of one layer is fed to the next layer (There are more complex architecture that skip layers, we will discuss one of those at the end of this lab). Usually, CNN start with alternating between convolution layer and pooling layer (downsample), then end up with fully connected layer for the classification part.\n",
    "\n",
    "### Convolution layer\n",
    "\n",
    "Convolution layer consist of multiple 2D convolution kernels applied on the input image or the previous layer, each convolution kernel output a feature map. \n",
    "\n",
    "<img src=\"img\\Conv2D.png\">\n",
    "\n",
    "The stack of feature maps output are the input to the next layer.\n",
    "\n",
    "<img src=\"img\\Conv2DFeatures.png\">\n",
    "\n",
    "### Pooling layer\n",
    "\n",
    "In most CNN vision architecture, each convolution layer is succeeded by a pooling layer, so they keep alternating until the fully connected layer. \n",
    "\n",
    "The purpose of the pooling layer is as follow:\n",
    "\n",
    "* Reduce the dimensionality of the previous layer, which speed up the network.\n",
    "* Provide a limited translation invariant.\n",
    "\n",
    "Here an example of max pooling with a stride of 2:\n",
    "\n",
    "<img src=\"img\\MaxPooling.png\">\n",
    "\n",
    "### Dropout layer\n",
    "\n",
    "Dropout layer takes a probability value as an input, the value is called the dropout rate. Let's say the dropu rate is 0.5, what this layer does it pick at random 50% of the nodes from the previous layer and drop them out of the nework. This behavior help regularize the network.\n",
    "\n",
    "### Batch normalization (BN)\n",
    "\n",
    "Batch normalization is a way to make the input to each layer has zero mean and unit variance. BN help the network converge faster and keep the input of each layer around zero. BN has two learnable parameters called gamma and beta, the purpose of those parameters is for the network to decide for itself if the normalized input is what is best or the raw input.\n",
    "\n",
    "## Computational Network Toolkit (CNTK)\n",
    "\n",
    "CNTK is a highly flexible computation graphs, each node take inputs as tensors and produce tensors as the result of the computation. Each node is exposed in Python API, which give you the flexibility of creating any custom graphs, you can also define your own node in Python or C++ using CPU, GPU or both.\n",
    "\n",
    "For Deep learning, you can use the low level API directly or you can use CNTK layered API. We will start with the low level API, then switch to the layered API in this lab.\n",
    "\n",
    "So let's first import the needed modules for this lab."
   ]
  },
  {
   "cell_type": "code",
   "execution_count": 7,
   "metadata": {
    "collapsed": true
   },
   "outputs": [],
   "source": [
    "import numpy as np\n",
    "import matplotlib.pyplot as plt\n",
    "import math\n",
    " \n",
    "from cntk.blocks import *  # non-layer like building blocks such as LSTM()\n",
    "from cntk.layers import *  # layer-like stuff\n",
    "from cntk.models import *  # higher abstraction level, e.g. entire standard models and also operators like Sequential()\n",
    "from cntk.utils import *\n",
    "from cntk.io import MinibatchSource, ImageDeserializer, StreamDef, StreamDefs\n",
    "from cntk.initializer import glorot_uniform\n",
    "from cntk import Trainer\n",
    "from cntk.learner import momentum_sgd, learning_rate_schedule\n",
    "from cntk.ops import cross_entropy_with_softmax, classification_error, relu\n",
    "from cntk.ops import convolution, pooling, PoolingType_Max, dropout"
   ]
  },
  {
   "cell_type": "markdown",
   "metadata": {},
   "source": [
    "Now that we imported the needed modules, let's implement our first CNN, as shown below:\n",
    "\n",
    "<img src=\"img\\CNN.png\">\n",
    "\n",
    "To implement the above, you will first implement each of the building blocks using CNTK low level python API."
   ]
  },
  {
   "cell_type": "code",
   "execution_count": 2,
   "metadata": {
    "collapsed": false
   },
   "outputs": [],
   "source": [
    "def conv_layer(input, num_filters, filter_size, init, strides=(1,1), nonlinearity=relu):\n",
    "    if nonlinearity is None:\n",
    "        nonlinearity = lambda x: x\n",
    "\n",
    "    channel_count = input.shape[0]\n",
    "\n",
    "    b_param = parameter(shape=(num_filters, 1, 1))\n",
    "    w_param = parameter(shape=(num_filters, channel_count, filter_size[0], filter_size[1]), init=init)\n",
    "    r       = convolution(w_param, input, (channel_count, strides[0], strides[1])) + b_param\n",
    "    r       = nonlinearity(r)\n",
    "\n",
    "    return r\n",
    "\n",
    "def bn_layer(input, spatial_rank, nonlinearity=relu, bn_time_const=5000, b_value=0, sc_value=1):\n",
    "    if nonlinearity is None:\n",
    "        nonlinearity = lambda x: x\n",
    "\n",
    "    dims = input.shape[0]\n",
    "\n",
    "    bias_params    = parameter((dims), init=b_value)\n",
    "    scale_params   = parameter((dims), init=sc_value)\n",
    "    running_mean   = constant(0, (dims))\n",
    "    running_invstd = constant(0, (dims))\n",
    "\n",
    "    r = batch_normalization(input, scale_params, bias_params, running_mean, running_invstd, spatial_rank > 0, bn_time_const, use_cudnn_engine=True)\n",
    "    r = nonlinearity(r)\n",
    "    return r\n",
    "\n",
    "def conv_bn_layer(input, num_filters, filter_size, init, strides=(1,1), nonlinearity=relu, bn_time_const=5000, b_value=0, sc_value=1):\n",
    "    r = conv_layer(input, num_filters, filter_size, init, strides=strides, nonlinearity=None)\n",
    "    r = bn_layer(r, 2, nonlinearity=nonlinearity)\n",
    "    return r\n",
    "\n",
    "def dense_layer(input, num_units, init, nonlinearity=relu):\n",
    "    if nonlinearity is None:\n",
    "        nonlinearity = lambda x: x\n",
    "\n",
    "    b_param = parameter(shape=(num_units))\n",
    "\n",
    "    if len(input.shape) >= 3:\n",
    "        w_param = parameter(shape=(input.shape[0], input.shape[1], input.shape[2], num_units), init=init)\n",
    "    else:\n",
    "        w_param = parameter(shape=(input.shape[0], num_units), init=init)\n",
    "\n",
    "    r = b_param + times(input, w_param)\n",
    "    r = nonlinearity(r)\n",
    "    return r\n",
    "\n",
    "def dense_bn_layer(input, num_units, init, nonlinearity=relu):\n",
    "    r = dense_layer(input, num_units, init, nonlinearity=None)\n",
    "    r = bn_layer(r, 0, nonlinearity=nonlinearity)\n",
    "    return r\n",
    "\n",
    "def max_pool_layer(input, pool_size, stride):\n",
    "    return pooling(input, PoolingType_Max, (1, pool_size[0], pool_size[1]), (1, stride[0], stride[1]))\n",
    "\n",
    "def dropout_layer(input, rate):\n",
    "    return dropout(input, dropout_rate=rate)"
   ]
  },
  {
   "cell_type": "markdown",
   "metadata": {},
   "source": [
    "So now that we defined the basic block for each layer, we can start defining our first CNN:"
   ]
  },
  {
   "cell_type": "code",
   "execution_count": 3,
   "metadata": {
    "collapsed": true
   },
   "outputs": [],
   "source": [
    "def create_basic_model(input, out_dims):\n",
    "    net = {}\n",
    "\n",
    "    net['conv1'] = conv_layer(input, 32, (5,5), init=glorot_uniform(scale=0.1557/256))\n",
    "    net['pool1'] = max_pool_layer(net['conv1'], (3,3), (2,2))\n",
    "\n",
    "    net['conv2'] = conv_layer(net['pool1'], 32, (5,5), init=glorot_uniform(scale=0.2))\n",
    "    net['pool2'] = max_pool_layer(net['conv2'], (3,3), (2,2))\n",
    "\n",
    "    net['conv3'] = conv_layer(net['pool2'], 64, (5,5), init=glorot_uniform(scale=0.2))\n",
    "    net['pool3'] = max_pool_layer(net['conv3'], (3,3), (2,2))\n",
    "\n",
    "    net['fc4']   = dense_layer(net['pool3'], 64, init=glorot_uniform(scale=1.697))\n",
    "    net['fc5']   = dense_layer(net['fc4'], out_dims, init=glorot_uniform(scale=0.212), nonlinearity = None)\n",
    "\n",
    "    return net"
   ]
  },
  {
   "cell_type": "markdown",
   "metadata": {},
   "source": [
    "Before using the above model, we need to create a source reader in order to iterate through the labeled data."
   ]
  },
  {
   "cell_type": "code",
   "execution_count": 4,
   "metadata": {
    "collapsed": true
   },
   "outputs": [],
   "source": [
    "# model dimensions\n",
    "image_height = 32\n",
    "image_width  = 32\n",
    "num_channels = 3\n",
    "num_classes  = 10\n",
    "\n",
    "#\n",
    "# Define the reader for both training and evaluation action.\n",
    "#\n",
    "def create_reader(map_file, mean_file, train):\n",
    "    if not os.path.exists(map_file) or not os.path.exists(mean_file):\n",
    "        cifar_py3 = \"\" if sys.version_info.major < 3 else \"_py3\"\n",
    "        raise RuntimeError(\"File '%s' or '%s' does not exist. Please run CifarDownload%s.py and CifarConverter%s.py from CIFAR-10 to fetch them\" %\n",
    "                           (map_file, mean_file, cifar_py3, cifar_py3))\n",
    "\n",
    "    # transformation pipeline for the features has jitter/crop only when training\n",
    "    transforms = []\n",
    "    if train:\n",
    "        transforms += [\n",
    "            ImageDeserializer.crop(crop_type='Random', ratio=0.8, jitter_type='uniRatio') # train uses jitter\n",
    "        ]\n",
    "    transforms += [\n",
    "        ImageDeserializer.scale(width=image_width, height=image_height, channels=num_channels, interpolations='linear'),\n",
    "        ImageDeserializer.mean(mean_file)\n",
    "    ]\n",
    "    # deserializer\n",
    "    return MinibatchSource(ImageDeserializer(map_file, StreamDefs(\n",
    "        features = StreamDef(field='image', transforms=transforms), # first column in map file is referred to as 'image'\n",
    "        labels   = StreamDef(field='label', shape=num_classes)      # and second as 'label'\n",
    "    )))"
   ]
  },
  {
   "cell_type": "markdown",
   "metadata": {},
   "source": [
    "Now let's write the the training and validation loop."
   ]
  },
  {
   "cell_type": "code",
   "execution_count": 5,
   "metadata": {
    "collapsed": false
   },
   "outputs": [],
   "source": [
    "#\n",
    "# Train and evaluate the network.\n",
    "#\n",
    "def train_and_evaluate(reader_train, reader_test, max_epochs, model_func):\n",
    "\n",
    "    # Input variables denoting the features and label data\n",
    "    input_var = input_variable((num_channels, image_height, image_width))\n",
    "    label_var = input_variable((num_classes))\n",
    "\n",
    "    # apply model to input\n",
    "    model = model_func(input_var, out_dims=10)\n",
    "    z = model['fc5']\n",
    "\n",
    "    #\n",
    "    # Training action\n",
    "    #\n",
    "\n",
    "    # loss and metric\n",
    "    ce = cross_entropy_with_softmax(z, label_var)\n",
    "    pe = classification_error(z, label_var)\n",
    "\n",
    "    # training config\n",
    "    epoch_size     = 50000\n",
    "    minibatch_size = 64\n",
    "\n",
    "    # For basic model\n",
    "    lr_per_sample       = [0.00015625]*10+[0.000046875]*10+[0.0000156]\n",
    "    momentum_per_sample = 0.9 ** (1.0 / minibatch_size)  # BUGBUG: why does this work? Should be as time const, no?\n",
    "    l2_reg_weight       = 0.03\n",
    "\n",
    "    # For basic model with batch normalization\n",
    "    # lr_per_sample       = [0.00046875]*7+[0.00015625]*10+[0.000046875]*10+[0.000015625]\n",
    "    # momentum_per_sample = 0\n",
    "    # l2_reg_weight       = 0\n",
    "\n",
    "    # trainer object\n",
    "    lr_schedule = learning_rate_schedule(lr_per_sample, units=epoch_size)\n",
    "    learner     = momentum_sgd(z.parameters, lr_schedule, momentum_per_sample, \n",
    "                               l2_regularization_weight = l2_reg_weight)\n",
    "    trainer     = Trainer(z, ce, pe, [learner])\n",
    "\n",
    "    # define mapping from reader streams to network inputs\n",
    "    input_map = {\n",
    "        input_var: reader_train.streams.features,\n",
    "        label_var: reader_train.streams.labels\n",
    "    }\n",
    "\n",
    "    log_number_of_parameters(z) ; print()\n",
    "    progress_printer = ProgressPrinter(tag='Training')\n",
    "\n",
    "    # perform model training\n",
    "    batch_index = 0\n",
    "    plot_data = {'batchindex':[], 'loss':[], 'error':[]}\n",
    "    for epoch in range(max_epochs):       # loop over epochs\n",
    "        sample_count = 0\n",
    "        while sample_count < epoch_size:  # loop over minibatches in the epoch\n",
    "            data = reader_train.next_minibatch(min(minibatch_size, epoch_size - sample_count), input_map=input_map) # fetch minibatch.\n",
    "            trainer.train_minibatch(data)                                   # update model with it\n",
    "\n",
    "            sample_count += data[label_var].num_samples                     # count samples processed so far\n",
    "            \n",
    "            # For visualization...            \n",
    "            plot_data['batchindex'].append(batch_index)\n",
    "            plot_data['loss'].append(trainer.previous_minibatch_loss_average)\n",
    "            plot_data['error'].append(trainer.previous_minibatch_evaluation_average)\n",
    "            \n",
    "            progress_printer.update_with_trainer(trainer, with_metric=True) # log progress\n",
    "            batch_index += 1\n",
    "        progress_printer.epoch_summary(with_metric=True)\n",
    "        \n",
    "    #\n",
    "    # Evaluation action\n",
    "    #\n",
    "    epoch_size     = 10000\n",
    "    minibatch_size = 16\n",
    "\n",
    "    # process minibatches and evaluate the model\n",
    "    metric_numer    = 0\n",
    "    metric_denom    = 0\n",
    "    sample_count    = 0\n",
    "    minibatch_index = 0\n",
    "\n",
    "    while sample_count < epoch_size:\n",
    "        current_minibatch = min(minibatch_size, epoch_size - sample_count)\n",
    "\n",
    "        # Fetch next test min batch.\n",
    "        data = reader_test.next_minibatch(current_minibatch, input_map=input_map)\n",
    "\n",
    "        # minibatch data to be trained with\n",
    "        metric_numer += trainer.test_minibatch(data) * current_minibatch\n",
    "        metric_denom += current_minibatch\n",
    "\n",
    "        # Keep track of the number of samples processed so far.\n",
    "        sample_count += data[label_var].num_samples\n",
    "        minibatch_index += 1\n",
    "\n",
    "    print(\"\")\n",
    "    print(\"Final Results: Minibatch[1-{}]: errs = {:0.1f}% * {}\".format(minibatch_index+1, (metric_numer*100.0)/metric_denom, metric_denom))\n",
    "    print(\"\")\n",
    "    \n",
    "    # Visualize training result:\n",
    "    window_width            = 32\n",
    "    loss_cumsum             = np.cumsum(np.insert(plot_data['loss'], 0, 0)) \n",
    "    error_cumsum            = np.cumsum(np.insert(plot_data['error'], 0, 0)) \n",
    "\n",
    "    # Moving average.\n",
    "    plot_data['batchindex'] = np.insert(plot_data['batchindex'], 0, 0)[window_width:]\n",
    "    plot_data['avg_loss']   = (loss_cumsum[window_width:] - loss_cumsum[:-window_width]) / window_width\n",
    "    plot_data['avg_error']  = (error_cumsum[window_width:] - error_cumsum[:-window_width]) / window_width\n",
    "    \n",
    "    plt.figure(1)\n",
    "    plt.subplot(211)\n",
    "    plt.plot(plot_data[\"batchindex\"], plot_data[\"avg_loss\"], 'b--')\n",
    "    plt.xlabel('Minibatch number')\n",
    "    plt.ylabel('Loss')\n",
    "    plt.title('Minibatch run vs. Training loss ')\n",
    "\n",
    "    plt.show()\n",
    "\n",
    "    plt.subplot(212)\n",
    "    plt.plot(plot_data[\"batchindex\"], plot_data[\"avg_error\"], 'r--')\n",
    "    plt.xlabel('Minibatch number')\n",
    "    plt.ylabel('Label Prediction Error')\n",
    "    plt.title('Minibatch run vs. Label Prediction Error ')\n",
    "    plt.show()"
   ]
  },
  {
   "cell_type": "code",
   "execution_count": 9,
   "metadata": {
    "collapsed": false
   },
   "outputs": [
    {
     "name": "stdout",
     "output_type": "stream",
     "text": [
      "Training 116906 parameters in 10 parameter tensors.\n",
      "\n",
      "Finished Epoch [1]: [Training] loss = 1.854603 * 50000, metric = 68.5% * 50000\n",
      "Finished Epoch [2]: [Training] loss = 1.476504 * 50000, metric = 53.1% * 50000\n",
      "Finished Epoch [3]: [Training] loss = 1.315036 * 50000, metric = 46.4% * 50000\n",
      "Finished Epoch [4]: [Training] loss = 1.210932 * 50000, metric = 42.3% * 50000\n",
      "Finished Epoch [5]: [Training] loss = 1.137301 * 50000, metric = 39.8% * 50000\n",
      "\n",
      "Final Results: Minibatch[1-626]: errs = 37.1% * 10000\n",
      "\n"
     ]
    },
    {
     "data": {
      "image/png": "[encoded data removed]",
      "text/plain": [
       "<matplotlib.figure.Figure at 0x8bdb748>"
      ]
     },
     "metadata": {},
     "output_type": "display_data"
    },
    {
     "data": {
      "image/png": "[encoded data removed]",
      "text/plain": [
       "<matplotlib.figure.Figure at 0x8ea6fd0>"
      ]
     },
     "metadata": {},
     "output_type": "display_data"
    }
   ],
   "source": [
    "data_path = os.path.join('data', 'CIFAR-10')\n",
    "reader_train = create_reader(os.path.join(data_path, 'train_map.txt'), os.path.join(data_path, 'CIFAR-10_mean.xml'), True)\n",
    "reader_test  = create_reader(os.path.join(data_path, 'test_map.txt'), os.path.join(data_path, 'CIFAR-10_mean.xml'), False)\n",
    "\n",
    "train_and_evaluate(reader_train, reader_test, max_epochs=5, model_func=create_basic_model)"
   ]
  },
  {
   "cell_type": "markdown",
   "metadata": {},
   "source": [
    "Adding dropout layer before the last dense layer:"
   ]
  },
  {
   "cell_type": "code",
   "execution_count": null,
   "metadata": {
    "collapsed": true
   },
   "outputs": [],
   "source": [
    "def create_basic_model_with_dropout(input, out_dims):\n",
    "    net = {}\n",
    "\n",
    "    net['conv1'] = conv_layer(input, 32, (5,5), init=glorot_uniform(scale=0.1557/256))\n",
    "    net['pool1'] = max_pool_layer(net['conv1'], (3,3), (2,2))\n",
    "\n",
    "    net['conv2'] = conv_layer(net['pool1'], 32, (5,5), init=glorot_uniform(scale=0.2))\n",
    "    net['pool2'] = max_pool_layer(net['conv2'], (3,3), (2,2))\n",
    "\n",
    "    net['conv3'] = conv_layer(net['pool2'], 64, (5,5), init=glorot_uniform(scale=0.2))\n",
    "    net['pool3'] = max_pool_layer(net['conv3'], (3,3), (2,2))\n",
    "\n",
    "    net['fc4']   = dense_layer(net['pool3'], 64, init=glorot_uniform(scale=1.697))\n",
    "    net['drop4'] = dropout_layer(net['fc4'], 0.75)\n",
    "    net['fc5']   = dense_layer(net['drop4'], out_dims, init=glorot_uniform(scale=0.212), nonlinearity=None)\n",
    "\n",
    "    return net"
   ]
  },
  {
   "cell_type": "code",
   "execution_count": null,
   "metadata": {
    "collapsed": false
   },
   "outputs": [],
   "source": [
    "train_and_evaluate(reader_train, reader_test, max_epochs=5, model_func=create_basic_model_with_dropout)"
   ]
  },
  {
   "cell_type": "markdown",
   "metadata": {},
   "source": [
    "Add batch normalization:"
   ]
  },
  {
   "cell_type": "code",
   "execution_count": null,
   "metadata": {
    "collapsed": true
   },
   "outputs": [],
   "source": [
    "def create_basic_model_with_batch_normalization(input, out_dims):\n",
    "    net = {}\n",
    "\n",
    "    net['conv1'] = conv_bn_layer(input, 32, (5,5), init=glorot_uniform(scale=0.1557/256))\n",
    "    net['pool1'] = max_pool_layer(net['conv1'], (3,3), (2,2))\n",
    "\n",
    "    net['conv2'] = conv_bn_layer(net['pool1'], 32, (5,5), init=glorot_uniform(scale=0.2))\n",
    "    net['pool2'] = max_pool_layer(net['conv2'], (3,3), (2,2))\n",
    "\n",
    "    net['conv3'] = conv_bn_layer(net['pool2'], 64, (5,5), init=glorot_uniform(scale=0.2))\n",
    "    net['pool3'] = max_pool_layer(net['conv3'], (3,3), (2,2))\n",
    "\n",
    "    net['fc4']   = dense_bn_layer(net['pool3'], 64, init=glorot_uniform(scale=1.697))\n",
    "    net['fc5']   = dense_layer(net['fc4'], out_dims, init=glorot_uniform(scale=0.212), nonlinearity=None)\n",
    "\n",
    "    return net"
   ]
  },
  {
   "cell_type": "code",
   "execution_count": null,
   "metadata": {
    "collapsed": false
   },
   "outputs": [],
   "source": [
    "train_and_evaluate(reader_train, reader_test, max_epochs=5, model_func=create_basic_model_with_batch_normalization)"
   ]
  },
  {
   "cell_type": "markdown",
   "metadata": {},
   "source": [
    "CNTK high layer API:"
   ]
  },
  {
   "cell_type": "code",
   "execution_count": null,
   "metadata": {
    "collapsed": true
   },
   "outputs": [],
   "source": [
    "def create_basic_model_layer(input, out_dims):\n",
    "    net = {}\n",
    "\n",
    "    with default_options(activation=relu):\n",
    "        model = Sequential([\n",
    "            LayerStack(3, lambda i: [\n",
    "                Convolution((5,5), [32,32,64][i], init=glorot_uniform(scale=[0.1557/256,0.2,0.2][i]), pad=True),\n",
    "                MaxPooling((3,3), strides=(2,2))\n",
    "            ]),\n",
    "            Dense(64, init=glorot_uniform(scale=1.697)),\n",
    "            Dense(out_dims, init=glorot_uniform(scale=0.212), activation=None)\n",
    "        ])\n",
    "\n",
    "    net['fc5'] = model(input)\n",
    "\n",
    "    return net\n"
   ]
  },
  {
   "cell_type": "code",
   "execution_count": null,
   "metadata": {
    "collapsed": false
   },
   "outputs": [],
   "source": [
    "train_and_evaluate(reader_train, reader_test, max_epochs=5, model_func=create_basic_model_layer)"
   ]
  },
  {
   "cell_type": "markdown",
   "metadata": {},
   "source": [
    "Let's implement an inspired VGG style network, using layer API, here the architecture:\n",
    "\n",
    "| VGG9          |\n",
    "| ------------- |\n",
    "| conv3-64      |\n",
    "| conv3-64      |\n",
    "| max3          |\n",
    "|               |\n",
    "| conv3-96      |\n",
    "| conv3-96      |\n",
    "| max3          |\n",
    "|               |\n",
    "| conv3-128     |\n",
    "| conv3-128     |\n",
    "| max3          |\n",
    "|               |\n",
    "| FC-1024       |\n",
    "| dropout0.5    |\n",
    "|               |\n",
    "| FC-1024       |\n",
    "| dropout0.5    |\n",
    "|               |\n",
    "| FC-10         |\n"
   ]
  },
  {
   "cell_type": "code",
   "execution_count": null,
   "metadata": {
    "collapsed": true
   },
   "outputs": [],
   "source": [
    "def create_vgg9_model(input, out_dims):\n",
    "    net = {}\n",
    "    with default_options(activation=relu):\n",
    "        model = Sequential([\n",
    "            LayerStack(3, lambda i: [\n",
    "                Convolution((3,3), [64,96,128][i], pad=True),\n",
    "                Convolution((3,3), [64,96,128][i], pad=True),\n",
    "                MaxPooling((3,3), strides=(2,2))\n",
    "            ]),\n",
    "            LayerStack(2, lambda : [\n",
    "                Dense(1024),\n",
    "                Dropout(0.5)\n",
    "            ]),\n",
    "            Dense(out_dims, activation=None)\n",
    "        ])\n",
    "    net['fc5'] = model(input)\n",
    "    return net"
   ]
  },
  {
   "cell_type": "code",
   "execution_count": null,
   "metadata": {
    "collapsed": false
   },
   "outputs": [],
   "source": [
    "train_and_evaluate(reader_train, reader_test, max_epochs=5, model_func=create_vgg9_model)"
   ]
  },
  {
   "cell_type": "markdown",
   "metadata": {},
   "source": [
    "### Residual Network (ResNet)\n",
    "\n",
    "One of the main problem of a Deep Neural Network is how to propagate the error all the way to the first layer. For a deep network, the gradient keep getting smaller until it has no effect on the network weights. [ResNet](https://arxiv.org/abs/1512.03385) was designed to overcome such problem, by defining a block with identity path, as shown below:\n",
    "\n",
    "<img src=\"img\\ResNetBlock2.png\">\n",
    "\n",
    "The idea of the above block is 2 folds:\n",
    "\n",
    "* During back propagation the gradient have a path that doesn't affect its magnitude.\n",
    "* The network need to learn residual mapping (delta to x).\n",
    "\n",
    "So let's implements ResNet blocks using CNTK:\n",
    "\n",
    "            ResNetNode                   ResNetNodeInc\n",
    "                |                              |\n",
    "         +------+------+             +---------+----------+\n",
    "         |             |             |                    |\n",
    "         V             |             V                    V\n",
    "    +----------+       |      +--------------+   +----------------+\n",
    "    | Conv, BN |       |      | Conv x 2, BN |   | SubSample, BN  |\n",
    "    +----------+       |      +--------------+   +----------------+\n",
    "         |             |             |                    |\n",
    "         V             |             V                    |\n",
    "     +-------+         |         +-------+                |\n",
    "     | ReLU  |         |         | ReLU  |                |\n",
    "     +-------+         |         +-------+                |\n",
    "         |             |             |                    |\n",
    "         V             |             V                    |\n",
    "    +----------+       |        +----------+              |\n",
    "    | Conv, BN |       |        | Conv, BN |              |\n",
    "    +----------+       |        +----------+              |\n",
    "         |             |             |                    |\n",
    "         |    +---+    |             |       +---+        |\n",
    "         +--->| + |<---+             +------>+ + +<-------+\n",
    "              +---+                          +---+\n",
    "                |                              |\n",
    "                V                              V\n",
    "            +-------+                      +-------+\n",
    "            | ReLU  |                      | ReLU  |\n",
    "            +-------+                      +-------+\n",
    "                |                              |\n",
    "                V                              V\n"
   ]
  },
  {
   "cell_type": "code",
   "execution_count": null,
   "metadata": {
    "collapsed": true
   },
   "outputs": [],
   "source": [
    "from cntk.ops import combine, times, element_times, AVG_POOLING\n",
    "\n",
    "def resnet_basic(input, num_filters):\n",
    "    c1 = conv_bn_layer(input, num_filters, (3,3), init=glorot_uniform())\n",
    "    c2 = conv_bn_layer(c1, num_filters, (3,3), init=glorot_uniform(), nonlinearity=None)\n",
    "    p  = c2 + input\n",
    "    return relu(p)\n",
    "\n",
    "def resnet_basic_inc(input, num_filters):\n",
    "    c1 = conv_bn_layer(input, num_filters, (3,3), strides=(2,2), init=glorot_uniform())\n",
    "    c2 = conv_bn_layer(c1, num_filters, (3,3), init=glorot_uniform(), nonlinearity=None)    \n",
    "    s  = conv_bn_layer(input, num_filters, (1,1), strides=(2,2), init=glorot_uniform(), nonlinearity=None)\n",
    "    \n",
    "    p = c2 + s\n",
    "    return relu(p)\n",
    "\n",
    "def resnet_basic_stack2(input, num_filters):\n",
    "    r1 = resnet_basic(input, num_filters)\n",
    "    r2 = resnet_basic(r1, num_filters)\n",
    "    return r2\n",
    "\n",
    "def resnet_basic_stack3(input, num_filters):\n",
    "    r12 = resnet_basic_stack2(input, num_filters)\n",
    "    r3 = resnet_basic(r12, num_filters)\n",
    "    return r3\n"
   ]
  },
  {
   "cell_type": "markdown",
   "metadata": {},
   "source": [
    "Let's write the full model:"
   ]
  },
  {
   "cell_type": "code",
   "execution_count": null,
   "metadata": {
    "collapsed": true
   },
   "outputs": [],
   "source": [
    "def create_resnet_model(input, out_dims):\n",
    "    net = {}\n",
    "    feat_scale = 1.0 / 256.0\n",
    "    input_norm = element_times(feat_scale, input)\n",
    "\n",
    "    conv = conv_bn_layer(input, 16, (3,3), init=glorot_uniform(), nonlinearity=None)\n",
    "    r1_1 = resnet_basic_stack3(conv, 16)\n",
    "\n",
    "    r2_1 = resnet_basic_inc(r1_1, 32)\n",
    "    r2_2 = resnet_basic_stack2(r2_1, 32)\n",
    "\n",
    "    r3_1 = resnet_basic_inc(r2_2, 64)\n",
    "    r3_2 = resnet_basic_stack2(r3_1, 64)\n",
    "\n",
    "    # Global average pooling\n",
    "    poolw = 8\n",
    "    poolh = 8\n",
    "    poolh_stride = 1\n",
    "    poolv_stride = 1\n",
    "\n",
    "    pool = pooling(r3_2, AVG_POOLING, (1, poolh, poolw), (1, poolv_stride, poolh_stride))\n",
    "    net['fc5'] = dense_layer(pool, out_dims, init=glorot_uniform(), nonlinearity=None)\n",
    "    \n",
    "    return net"
   ]
  },
  {
   "cell_type": "code",
   "execution_count": null,
   "metadata": {
    "collapsed": false
   },
   "outputs": [],
   "source": [
    "train_and_evaluate(reader_train, reader_test, max_epochs=5, model_func=create_resnet_model)"
   ]
  }
 ],
 "metadata": {
  "kernelspec": {
   "display_name": "Python 3",
   "language": "python",
   "name": "python3"
  },
  "language_info": {
   "codemirror_mode": {
    "name": "ipython",
    "version": 3
   },
   "file_extension": ".py",
   "mimetype": "text/x-python",
   "name": "python",
   "nbconvert_exporter": "python",
   "pygments_lexer": "ipython3",
   "version": "3.4.5"
  }
 },
 "nbformat": 4,
 "nbformat_minor": 1
}
